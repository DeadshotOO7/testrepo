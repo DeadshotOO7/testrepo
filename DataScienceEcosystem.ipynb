{
 "cells": [
  {
   "cell_type": "markdown",
   "id": "7c35c439-8c8f-4d8c-8461-8fba483ca539",
   "metadata": {},
   "source": [
    "# Data Science Tools and Ecosystem"
   ]
  },
  {
   "cell_type": "markdown",
   "id": "c392d201-696c-4e33-932a-f56ce207a305",
   "metadata": {},
   "source": [
    "# Data Science Tools and Ecosystem"
   ]
  },
  {
   "cell_type": "markdown",
   "id": "4fbaa541-7eee-4b78-83bb-1b770dcc89e4",
   "metadata": {},
   "source": [
    "# In this notebook, Data Science Tools and Ecosystem are summarized."
   ]
  },
  {
   "cell_type": "markdown",
   "id": "aca0f19e-c988-49e5-9cd3-9667fcc3b230",
   "metadata": {},
   "source": [
    "# In this notebook, Data Science Tools and Ecosystem are summarized."
   ]
  },
  {
   "cell_type": "markdown",
   "id": "4912313a-358c-4719-8232-b6fe08731402",
   "metadata": {},
   "source": [
    "**Objectives:**\n",
    "- List popular languages for Data Science\n",
    "- List popular libraries for Data Science\n",
    "- List functions of JupyterLab and GitHub"
   ]
  },
  {
   "cell_type": "markdown",
   "id": "e47b351e-302a-4f4e-98d0-e8e7e4dd2c2a",
   "metadata": {},
   "source": [
    "**Objectives:**\n",
    "- List popular languages for Data Science\n",
    "- List popular libraries for Data Science\n",
    "- List functions of JupyterLab and GitHub"
   ]
  },
  {
   "cell_type": "markdown",
   "id": "dea07dd2-8916-4b99-9b7e-c9f2d039b742",
   "metadata": {
    "tags": []
   },
   "source": [
    "# Some of the popular languages that Data Scientists use are:\n",
    "1. R\n",
    "2. Python\n",
    "3. SQL\n",
    "4. Julia"
   ]
  },
  {
   "cell_type": "markdown",
   "id": "fab1be18-cffc-48a0-88e1-82aec3baee67",
   "metadata": {},
   "source": [
    "# Some of the popular languages that Data Scientists use are:\n",
    "1. R\n",
    "2. Python\n",
    "3. SQL\n",
    "4. Julia"
   ]
  },
  {
   "cell_type": "markdown",
   "id": "bb6e9c0e-6970-4367-b8a9-055ee20fc17b",
   "metadata": {},
   "source": [
    "# Some of the commonly used libraries used by Data Scientists include:\n",
    "1. Ggplot\n",
    "2. Pandas\n",
    "3. Numpy\n",
    "4. PyTorch\n",
    "5. Scikit-learn\n",
    "6. Keras\n",
    "7. Matplotlib"
   ]
  },
  {
   "cell_type": "markdown",
   "id": "cbaf121a-d68c-496a-a1b7-37eda5bc9b41",
   "metadata": {},
   "source": [
    "# Some of the commonly used libraries used by Data Scientists include:\n",
    "1. Ggplot\n",
    "2. Pandas\n",
    "3. Numpy\n",
    "4. PyTorch\n",
    "5. Scikit-learn\n",
    "6. Keras\n",
    "7. Matplotlib"
   ]
  },
  {
   "cell_type": "markdown",
   "id": "97df2bce-4866-4ce4-956a-fc8338af47d8",
   "metadata": {},
   "source": [
    "|Data Science Tools|\n",
    "|------------------|\n",
    "|RStudio|\n",
    "|Spyder|\n",
    "|Jupiter Notebook|"
   ]
  },
  {
   "cell_type": "markdown",
   "id": "d9f2e7b1-ae8c-4b1c-88bb-57546f11631c",
   "metadata": {},
   "source": [
    "|Data Science Tools|\n",
    "|------------------|\n",
    "|RStudio|\n",
    "|Spyder|\n",
    "|Jupiter Notebook|\n"
   ]
  },
  {
   "cell_type": "markdown",
   "id": "f4552b7e-c7a1-49e9-9858-b341b42f4b88",
   "metadata": {},
   "source": [
    "### Below are a few examples of evaluating arithmetic expressions in Python\n"
   ]
  },
  {
   "cell_type": "markdown",
   "id": "03bba0c6-ed3c-4e00-8f0e-7e136882f5b1",
   "metadata": {},
   "source": [
    "### Below are a few examples of evaluating arithmetic expressions in Python"
   ]
  },
  {
   "cell_type": "code",
   "execution_count": 1,
   "id": "5fa1ed41-5a17-4a73-abf9-550b68d1289d",
   "metadata": {
    "tags": []
   },
   "outputs": [
    {
     "data": {
      "text/plain": [
       "17"
      ]
     },
     "execution_count": 1,
     "metadata": {},
     "output_type": "execute_result"
    }
   ],
   "source": [
    "# This a simple arithmetic expression to mutiply then add integers\n",
    "(3*4)+5\n"
   ]
  },
  {
   "cell_type": "code",
   "execution_count": 3,
   "id": "ac3f5239-b35b-400c-959b-704ebc13ebb3",
   "metadata": {
    "tags": []
   },
   "outputs": [
    {
     "data": {
      "text/plain": [
       "3.3333333333333335"
      ]
     },
     "execution_count": 3,
     "metadata": {},
     "output_type": "execute_result"
    }
   ],
   "source": [
    "# This will convert 200 minutes to hours by dividing by 60\n",
    "200/60\n"
   ]
  },
  {
   "cell_type": "markdown",
   "id": "66a3042b-83d9-4ce4-8a29-8a2c8ef47691",
   "metadata": {},
   "source": [
    "## Author\n",
    "Maniveenthan"
   ]
  },
  {
   "cell_type": "markdown",
   "id": "6d0f299b-2dc8-43d9-b240-371210c2b85d",
   "metadata": {},
   "source": [
    "## Author\n",
    "Maniveenthan"
   ]
  },
  {
   "cell_type": "code",
   "execution_count": null,
   "id": "ceda59f6-ce7b-4732-b7cb-78e6befae51f",
   "metadata": {},
   "outputs": [],
   "source": []
  }
 ],
 "metadata": {
  "kernelspec": {
   "display_name": "Python",
   "language": "python",
   "name": "conda-env-python-py"
  },
  "language_info": {
   "codemirror_mode": {
    "name": "ipython",
    "version": 3
   },
   "file_extension": ".py",
   "mimetype": "text/x-python",
   "name": "python",
   "nbconvert_exporter": "python",
   "pygments_lexer": "ipython3",
   "version": "3.7.12"
  }
 },
 "nbformat": 4,
 "nbformat_minor": 5
}
